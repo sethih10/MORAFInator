{
 "cells": [
  {
   "cell_type": "code",
   "execution_count": 7,
   "id": "ebba21e6-b9be-4aa4-887f-1fa9cfb33606",
   "metadata": {},
   "outputs": [],
   "source": [
    "import numpy as np\n",
    "import h5py\n",
    "\n",
    "import torch\n",
    "from torch.utils.data import Dataset\n",
    "\n",
    "COVALENT_RADII = {\n",
    "    1: 0.32,\n",
    "    6: 0.77,\n",
    "    7: 0.75,\n",
    "    8: 0.73,\n",
    "    9: 0.71,\n",
    "}\n",
    "\n",
    "ELEMENT_TO_INDEX = {\n",
    "    1: 0,\n",
    "    6: 1,\n",
    "    7: 2,\n",
    "    8: 3,\n",
    "    9: 4,\n",
    "}\n",
    "\n",
    "INDEX_TO_SYMBOL = {\n",
    "    1: 'H',\n",
    "    6: 'C',\n",
    "    7: 'N',\n",
    "    8: 'O',\n",
    "    9: 'F',\n",
    "}"
   ]
  },
  {
   "cell_type": "code",
   "execution_count": 8,
   "id": "c2e86746-1d6c-406e-af06-4c3e18c99326",
   "metadata": {},
   "outputs": [],
   "source": [
    "class AFMData(Dataset): \n",
    "    def __init__(self, data_path, transform, train_size=0.8, split='train'): \n",
    "        self.data_path = data_path\n",
    "        self.transform = transform\n",
    "        self.split = split\n",
    "\n",
    "        with h5py.File(self.data_path, 'r') as f:\n",
    "            total_length = f['x'].shape[0]\n",
    "            self.train_length = int(train_size*total_length)\n",
    "            self.val_length = total_length - self.train_length\n",
    "\n",
    "    def __len__(self):\n",
    "        if self.split == 'train':\n",
    "            return self.train_length\n",
    "        else: \n",
    "            return self.val_length\n",
    "\n",
    "    def __getitem__(self, idx): \n",
    "        if self.split == 'train': \n",
    "            idx += 0\n",
    "        else: \n",
    "            idx += self.train_length\n",
    "\n",
    "        with h5py.File(self.data_path, 'r') as f:\n",
    "            x = f['x'][idx]\n",
    "            xyz = f['xyz'][idx]\n",
    "\n",
    "        # Remove padding atoms\n",
    "        xyz = xyz[xyz[:, -1] > 0]\n",
    "\n",
    "        # Get edges \n",
    "        edges = []\n",
    "        for i in range(xyz.shape[0]): \n",
    "            for j in range(i+1, xyz.shape[0]): \n",
    "                dist = np.linalg.norm(xyz[i, :3] - xyz[j, :3])\n",
    "                if dist < 1.2*(COVALENT_RADII[xyz[i, -1]] + COVALENT_RADII[xyz[j, -1]]):\n",
    "                    edges.append([i,j])\n",
    "\n",
    "        # Normalize xyz to [0.25, 0.75]\n",
    "        xyzmin = np.min(xyz[:, :3])\n",
    "        xyz_max = np.max(xyz[:, 3])\n",
    "\n",
    "        xyz[:, :3] = (xyz[:, :3] - xyzmin[:, :3])/(xyz_max - xyzmin)\n",
    "        xyz[:, :3] = 0.5*xyz[:, :3] + 0.25\n",
    "\n",
    "        # map atom types to integers (0,1, ..)\n",
    "        xyz[:, -1] = [ELEMENT_TO_INDEX[atom_type] for atom_type in xyz[:, -1]]\n",
    "\n",
    "        sample = {'coords': xyz, edges: np.asarray(edges)}\n",
    "\n",
    "        if self.transform:\n",
    "            sample = self.transform(sample)\n",
    "\n",
    "        # Keep all channels from HDF5 and convert to [C,H,W]\n",
    "        x = torch.from_numpy(x)\n",
    "        if x.dim() == 4 and x.size(0) == 1: \n",
    "            # Input like [1, H, W, C] -> [H, W, C]\n",
    "            x = x.squeeze(0)\n",
    "        if x.dim() == 3: \n",
    "            # Assume [H, W, C] from HDF5, move channels first\n",
    "            x = x.permute(2,0,1).continguous()\n",
    "\n",
    "        return idx, x, sample\n",
    "\n",
    "\n",
    "def get_datasets(data_path, train_transform = None, val_transform = None, train_size = 0.8): \n",
    "\n",
    "    train_dataset = AFMData(data_path, transform = train_transform, train_size=train_size, split='train')\n",
    "    val_dataset = AFMData(data_path, transform = val_transform, train_size=train_size, split='val')\n",
    "\n",
    "    return train_dataset, val_dataset\n",
    "\n",
    "\n",
    "def afm_collate_fn(batch): \n",
    "\n",
    "    sample = {'coords': [], 'edges': []}\n",
    "    ids = [id[0] for id in batch]\n",
    "    images = torch.stack([item[1] for item in batch])\n",
    "    for item in batch:\n",
    "        sample['coords'].append(torch.from_numpy(item[2]['coords']))\n",
    "        sample['edges'].append(torch.from_numpy(item[2]['edges']))\n",
    "\n",
    "    return ids, images, samples"
   ]
  },
  {
   "cell_type": "code",
   "execution_count": 9,
   "id": "a8722bf7-d926-46a9-b1ca-dd08d4c8a444",
   "metadata": {},
   "outputs": [
    {
     "name": "stdout",
     "output_type": "stream",
     "text": [
      "sw: <HDF5 dataset \"sw\": shape (59392, 1, 2, 3), type \"<f4\">\n",
      "x: <HDF5 dataset \"x\": shape (59392, 1, 128, 128, 10), type \"<f4\">\n",
      "xyz: <HDF5 dataset \"xyz\": shape (59392, 54, 5), type \"<f4\">\n"
     ]
    }
   ],
   "source": [
    "afm_data = h5py.File(\"/scratch/phys/project/sin/hackathon/data/afm.h5\", 'r')\n",
    "for key in afm_data.keys(): \n",
    "    print(f\"{key}: {afm_data[key]}\")"
   ]
  },
  {
   "cell_type": "code",
   "execution_count": 10,
   "id": "d31cb4c5-34c3-4636-88b6-3a40fb4b1566",
   "metadata": {},
   "outputs": [
    {
     "name": "stdout",
     "output_type": "stream",
     "text": [
      "['F', 'O', 'N', 'C', 'C', 'C', 'C', 'C', 'C', 'C', 'C', 'C', 'C', 'C', 'C', 'C', 'C', 'C', 'H', 'H', 'H', 'H', 'H', 'H', 'H', 'H', 'H', 'H']\n"
     ]
    }
   ],
   "source": [
    "mask = afm_data['xyz'][0, :, -1] > 0\n",
    "new_data = afm_data['xyz'][0,mask, -1]\n",
    "atomtok = [INDEX_TO_SYMBOL[value] for value in new_data]\n",
    "print(atomtok)"
   ]
  },
  {
   "cell_type": "code",
   "execution_count": 27,
   "id": "7a269ef5-fd34-4fe9-b02d-4634a6a81fa7",
   "metadata": {},
   "outputs": [
    {
     "name": "stdout",
     "output_type": "stream",
     "text": [
      "[0.   0.02 0.03 0.05 0.06 0.08 0.1  0.11 0.13 0.14 0.16 0.17 0.19 0.21\n",
      " 0.22 0.24 0.25 0.27 0.29 0.3  0.32 0.33 0.35 0.37 0.38 0.4  0.41 0.43\n",
      " 0.44 0.46 0.48 0.49 0.51 0.52 0.54 0.56 0.57 0.59 0.6  0.62 0.63 0.65\n",
      " 0.67 0.68 0.7  0.71 0.73 0.75 0.76 0.78 0.79 0.81 0.83 0.84 0.86 0.87\n",
      " 0.89 0.9  0.92 0.94 0.95 0.97 0.98 1.  ]\n"
     ]
    }
   ],
   "source": [
    "coord_bins = 64\n",
    "\n",
    "coord_bin_values = np.round(np.linspace(0,1,64),2)\n",
    "print(coord_bin_values)\n",
    "coord_tokens = [f'<COORD_{i}>' for i in range(coord_bins)]\n"
   ]
  },
  {
   "cell_type": "code",
   "execution_count": 42,
   "id": "aad0890e-7837-4b30-bb38-48dcc6ea28b5",
   "metadata": {},
   "outputs": [
    {
     "name": "stdout",
     "output_type": "stream",
     "text": [
      "[1.   0.   0.02]\n"
     ]
    }
   ],
   "source": [
    "new_coord = coord_bin_values[np.argmin(np.abs(coord_bin_values.reshape(1,-1) - coord.reshape(-1,1)), axis = 1)]\n",
    "print(new_coord)"
   ]
  },
  {
   "cell_type": "code",
   "execution_count": 46,
   "id": "8195c00e-b5ce-4b72-9aa0-8f89e3f98522",
   "metadata": {},
   "outputs": [
    {
     "name": "stdout",
     "output_type": "stream",
     "text": [
      "O: 0.0, 0.25, 0.0,\n",
      "O: -0.3661240339279175, 0.25187012553215027, -0.0004621819534804672,\n"
     ]
    }
   ],
   "source": [
    "coords = afm_data['xyz'][0, mask, :3]\n",
    "coord_tokens = []\n",
    "coordo_tokens = []\n",
    "for symbol, coord in zip(atomtok, coords):\n",
    "    new_coord = coord_bin_values[np.argmin(np.abs(coord_bin_values.reshape(1,-1) - coord.reshape(-1,1)), axis = 1)]\n",
    "    coord_tokens.append(f'{symbol}: {new_coord[0]}, {new_coord[1]}, {new_coord[2]},')\n",
    "    coordo_tokens.append(f'{symbol}: {coord[0]}, {coord[1]}, {coord[2]},')\n",
    "print(coord_tokens[1])\n",
    "print(coordo_tokens[1])"
   ]
  },
  {
   "cell_type": "code",
   "execution_count": 36,
   "id": "be50bb5a-d7df-4ae8-93d7-17ba5afc2af5",
   "metadata": {},
   "outputs": [
    {
     "data": {
      "text/plain": [
       "(3, 64)"
      ]
     },
     "execution_count": 36,
     "metadata": {},
     "output_type": "execute_result"
    }
   ],
   "source": [
    "(coord_bin_values.reshape(1,-1) - coord.reshape(-1,1)).shape"
   ]
  },
  {
   "cell_type": "code",
   "execution_count": 38,
   "id": "5148dea8-ee01-4f4d-90f3-9074533cdbd6",
   "metadata": {},
   "outputs": [
    {
     "data": {
      "text/plain": [
       "array([0., 0., 0.])"
      ]
     },
     "execution_count": 38,
     "metadata": {},
     "output_type": "execute_result"
    }
   ],
   "source": []
  },
  {
   "cell_type": "code",
   "execution_count": 48,
   "id": "ab11ed06-e07d-42fd-96cc-7c6e20c5761c",
   "metadata": {},
   "outputs": [],
   "source": [
    "class AFMDataset(Dataset): \n",
    "    def __init__(self, data_path, transform, train_size=0.8, split='train'): \n",
    "        self.data_path = data_path\n",
    "        self.transform = transform\n",
    "        self.split = split\n",
    "\n",
    "        with h5py.File(self.data_path, 'r') as f:\n",
    "            total_length = f['x'].shape[0]\n",
    "            self.train_length = int(train_size*total_length)\n",
    "            self.val_length = total_length - self.train_length\n",
    "\n",
    "    def __len__(self): \n",
    "        if self.split == 'train': \n",
    "            return self.train_length\n",
    "        else: \n",
    "            return self.val_length\n",
    "\n",
    "    def __getitem__(self, idx):\n",
    "\n",
    "        if self.split == 'train': \n",
    "            idx += 0\n",
    "        else: \n",
    "            idx += self.train_length\n",
    "\n",
    "        with h5py.File(self.data_path, 'r') as f:\n",
    "            x = f['x'][idx]\n",
    "            xyz = f['xyz'][idx]\n",
    "\n",
    "        # Remove padding atoms\n",
    "        xyz = xyz[xyz[:, -1] > 0]\n",
    "\n",
    "        # Get edges \n",
    "        edges = []\n",
    "        for i in range(xyz.shape[0]): \n",
    "            for j in range(i+1, xyz.shape[0]): \n",
    "                dist = np.linalg.norm(xyz[i, :3] - xyz[j, :3])\n",
    "                if dist < 1.2*(COVALENT_RADII[xyz[i, -1]] + COVALENT_RADII[xyz[j, -1]]):\n",
    "                    edges.append([i,j])\n",
    "\n",
    "        # Normalize xyz to [0.25, 0.75]\n",
    "        xyzmin = np.min(xyz[:, :3])\n",
    "        xyz_max = np.max(xyz[:, 3])\n",
    "\n",
    "        xyz[:, :3] = (xyz[:, :3] - xyzmin[:, :3])/(xyz_max - xyzmin)\n",
    "        xyz[:, :3] = 0.5*xyz[:, :3] + 0.25\n",
    "\n",
    "        # map atom types to integers (0,1, ..)\n",
    "        xyz[:, -1] = [ELEMENT_TO_INDEX[atom_type] for atom_type in xyz[:, -1]]\n",
    "\n",
    "        sample = {'coords': xyz, edges: np.asarray(edges)}\n",
    "\n",
    "        if self.transform:\n",
    "            sample = self.transform(sample)\n",
    "\n",
    "        # Keep all channels from HDF5 and convert to [C,H,W]\n",
    "        x = torch.from_numpy(x)\n",
    "        if x.dim() == 4 and x.size(0) == 1: \n",
    "            # Input like [1, H, W, C] -> [H, W, C]\n",
    "            x = x.squeeze(0)\n",
    "        if x.dim() == 3: \n",
    "            # Assume [H, W, C] from HDF5, move channels first\n",
    "            x = x.permute(2,0,1).continguous()\n",
    "\n",
    "        mask = xyz[:, -1] > 0\n",
    "        atomtok = [INDEX_TO_SYMBOL[value] for value in xyz[mask, -1]]\n",
    "\n",
    "        atomtok_coords = []\n",
    "        for symbol, coord in zip(atomtok, xyz):\n",
    "            new_coord = coord_bin_values[np.argmin(np.abs(coord_bin_values.reshape(1,-1) - coord.reshape(-1,1)), axis = 1)]\n",
    "            atomtok_coords.append(f'{symbol}: {new_coord[0]}, {new_coord[1]}, {new_coord[2]},')\n",
    "\n",
    "        ref = {'atomtok': np.asarray(atomtok), 'edges': np.asarray(edges), 'atomtok_coords': np.asarray(atomtok_coords), 'chartok_coords': np.asarray(atomtok_coords)}\n",
    "\n",
    "        return idx, image, ref"
   ]
  },
  {
   "cell_type": "code",
   "execution_count": null,
   "id": "c4ee79fc-24ec-4d91-8764-165a2b131cbf",
   "metadata": {},
   "outputs": [],
   "source": []
  }
 ],
 "metadata": {
  "kernelspec": {
   "display_name": "Python generic (scicomp-python-env/2024-01)",
   "language": "python",
   "name": "python3"
  },
  "language_info": {
   "codemirror_mode": {
    "name": "ipython",
    "version": 3
   },
   "file_extension": ".py",
   "mimetype": "text/x-python",
   "name": "python",
   "nbconvert_exporter": "python",
   "pygments_lexer": "ipython3",
   "version": "3.11.9"
  }
 },
 "nbformat": 4,
 "nbformat_minor": 5
}
